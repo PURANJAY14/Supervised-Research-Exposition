{
 "cells": [
  {
   "cell_type": "code",
   "execution_count": 1,
   "id": "3d6081f8",
   "metadata": {},
   "outputs": [
    {
     "name": "stdout",
     "output_type": "stream",
     "text": [
      "[0. 2. 2.] \n",
      " [[0.03533853 0.14236728 0.24715961 0.15163246]\n",
      " [0.17305165 0.23365771 0.14072841 0.14476882]\n",
      " [0.21731351 0.06346735 0.21731351 0.02500582]] \n",
      " [[0.14996499 0.25699374 0.36178608 0.26625892]\n",
      " [0.46129179 0.52189785 0.42896856 0.43300896]\n",
      " [1.47499418 1.32114803 1.47499418 1.28268649]]\n",
      "Stopping Time : 15249\n",
      "Active arm : [0. 0. 2.]\n"
     ]
    }
   ],
   "source": [
    "import numpy as np\n",
    "from scipy.stats import bernoulli\n",
    "\n",
    "#K groups,N arms/group, delta=confidence of success\n",
    "# Bernoulli reward disrtibution\n",
    "#reward distribution example 1:[[0.1,0.2,0.3,0.2],[0.6,0.6,0.6,0.6],[0.9,0.8,0.7,0.6]]\n",
    "#reward distribution example 2:[[0.1,0.2,0.3,0.2],[0.1,0.1,0.1,0.1],[0.9,0.8,0.7,0.6]]--easier to distinguish\n",
    "\n",
    "K=3;N=4;delta=1;min_threshold=0.15;\n",
    "reward_distribution=np.array([[0.1,0.2,0.3,0.2],[0.3,0.4,0.3,0.3],[0.9,0.8,0.7,0.6]]);\n",
    "pulls=np.ones((K,N));\n",
    "active_groups=np.ones(K);\n",
    "actual_reward_received=np.zeros((K,N));\n",
    "t=1;\n",
    "lcb_arms=np.zeros((K,N));ucb_arms=np.zeros((K,N));\n",
    "lcb_group=np.zeros(K);ucb_group=np.zeros(K);\n",
    "\n",
    "\n",
    "def eliminate_arms(active_groups,lcb_group,ucb_group):\n",
    "    lcb_max=np.max(lcb_group);\n",
    "    state_groups1=(ucb_group>=lcb_max);\n",
    "    state_groups2=np.array(list(map(sum, (ucb_arms>=min_threshold))))>=1;\n",
    "    active_groups*=state_groups1;\n",
    "    return active_groups\n",
    "    \n",
    "def calculate_bounds(lcb_group,ucb_group,lcb_arms,ucb_arms):\n",
    "    lcb_arms=actual_reward_received/pulls-np.sqrt(np.log(4*t*t/delta)/(2*pulls));\n",
    "    ucb_arms=actual_reward_received/pulls+np.sqrt(np.log(4*t*t/delta)/(2*pulls));\n",
    "    lcb_group=lcb_arms.sum(axis=1);\n",
    "    ucb_group=ucb_arms.sum(axis=1);\n",
    "    return lcb_arms,ucb_arms,lcb_group,ucb_group;\n",
    "\n",
    "def eliminate_minviolating_arms(active_groups,lcb_arms,ucb_arms):\n",
    "    for group in range(K):\n",
    "        if active_groups[group]==1: \n",
    "            if np.prod(ucb_arms[group]>=min_threshold)==0 :\n",
    "                #print(\"ucb=\",ucb_arms[group])\n",
    "                active_groups[group]=0;\n",
    "            if np.prod(lcb_arms[group]>=min_threshold)==1:\n",
    "                active_groups[group]=2;  #2 =dormant group\n",
    "    return active_groups      \n",
    "    \n",
    "    \n",
    "while np.bincount(np.int32(active_groups))[1]!=0 and t<=500000:\n",
    "    for i in range(len(active_groups)):\n",
    "        if active_groups[i]==1:\n",
    "            \n",
    "            for index in range(len(reward_distribution[i])):\n",
    "                pulls[i][index]+=1;\n",
    "                t=t+1;\n",
    "                actual_reward_received[i][index]+=bernoulli.rvs(p=reward_distribution[i][index]);\n",
    "    lcb_arms,ucb_arms,lcb_group,ucb_group=calculate_bounds(lcb_group,ucb_group,lcb_arms,ucb_arms);\n",
    "    active_groups=eliminate_minviolating_arms(active_groups,lcb_arms,ucb_arms);\n",
    "    #print(active_groups,\"\\n\",lcb_arms,\"\\n\",ucb_arms)\n",
    "    \n",
    "print(active_groups,\"\\n\",lcb_arms,\"\\n\",ucb_arms)\n",
    "\n",
    "while np.sum((active_groups>=1))>1 and t<=500000 :\n",
    "    for i in range(len(active_groups)):\n",
    "        if active_groups[i]>=1:\n",
    "            \n",
    "            for index in range(len(reward_distribution[i])):\n",
    "                pulls[i][index]+=1;\n",
    "                t=t+1;\n",
    "                actual_reward_received[i][index]+=bernoulli.rvs(p=reward_distribution[i][index]);\n",
    "\n",
    "    \n",
    "    lcb_arms,ucb_arms,lcb_group,ucb_group=calculate_bounds(lcb_group,ucb_group,lcb_arms,ucb_arms);\n",
    "    active_groups=eliminate_arms(active_groups,lcb_group,ucb_group);\n",
    "    #print(lcb_group,ucb_group,\"\\n\",pulls)\n",
    "\n",
    "print(\"Stopping Time :\",t)\n",
    "print(\"Active arm :\",active_groups)\n"
   ]
  },
  {
   "cell_type": "markdown",
   "id": "6dcdcf76",
   "metadata": {},
   "source": [
    "# Observations\n",
    "##  1)if min_threshold==mean of one the arms then,it will take infinite time to discard that arm.\n",
    "##  2) we have to separate the process in two stages as,if the group confidence bounds separates first then the higher group might have a min_violating arm which is undesirable\n",
    "##  3)Iterate until lcb of all arms goes above min_threshold(mark as dormant) or \n",
    "##   ucb of any arm goes below min_threshold(mark as inactive) \n",
    "##  4) Only dormant arms proceed to successive elimination stage."
   ]
  }
 ],
 "metadata": {
  "kernelspec": {
   "display_name": "Python 3",
   "language": "python",
   "name": "python3"
  },
  "language_info": {
   "codemirror_mode": {
    "name": "ipython",
    "version": 3
   },
   "file_extension": ".py",
   "mimetype": "text/x-python",
   "name": "python",
   "nbconvert_exporter": "python",
   "pygments_lexer": "ipython3",
   "version": "3.8.8"
  }
 },
 "nbformat": 4,
 "nbformat_minor": 5
}
