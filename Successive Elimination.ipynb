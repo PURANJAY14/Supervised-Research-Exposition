{
 "cells": [
  {
   "cell_type": "code",
   "execution_count": 90,
   "id": "a1efbb1c",
   "metadata": {},
   "outputs": [
    {
     "name": "stdout",
     "output_type": "stream",
     "text": [
      "Stopping Time : 290881\n",
      "Active arm : [0. 0. 1.]\n"
     ]
    }
   ],
   "source": [
    "import numpy as np\n",
    "from scipy.stats import bernoulli\n",
    "\n",
    "#K groups,N arms/group, delta=confidence of success\n",
    "# Bernoulli reward disrtibution\n",
    "#reward distribution example 1:[[0.1,0.2,0.3,0.2],[0.6,0.6,0.6,0.6],[0.9,0.8,0.7,0.6]]\n",
    "#reward distribution example 2:[[0.1,0.2,0.3,0.2],[0.1,0.1,0.1,0.1],[0.9,0.8,0.7,0.6]]--easier to distinguish\n",
    "\n",
    "K=3;N=4;delta=1;\n",
    "reward_distribution=np.array([[0.1,0.2,0.3,0.2],[0.9,0.8,0.5,0.6],[0.9,0.8,0.7,0.6]]);\n",
    "pulls=np.ones((K,N));\n",
    "active_groups=np.ones(K);\n",
    "actual_reward_received=np.zeros((K,N));\n",
    "t=1;\n",
    "lcb_arms=np.zeros((K,N));ucb_arms=np.zeros((K,N));\n",
    "lcb_group=np.zeros(K);ucb_group=np.zeros(K);\n",
    "\n",
    "def eliminate_arms(active_groups,lcb_group,ucb_group):\n",
    "    lcb_max=np.max(lcb_group);\n",
    "    state_groups=ucb_group>=lcb_max;    \n",
    "    active_groups*=state_groups;\n",
    "    return active_groups\n",
    "    \n",
    "def calculate_bounds(lcb_group,ucb_group,lcb_arms,ucb_arms):\n",
    "    lcb_arms=actual_reward_received/pulls-np.sqrt(2*np.log(t/delta)/pulls);\n",
    "    ucb_arms=actual_reward_received/pulls+np.sqrt(2*np.log(t/delta)/pulls);\n",
    "    lcb_group=lcb_arms.sum(axis=1);\n",
    "    ucb_group=ucb_arms.sum(axis=1);\n",
    "    return lcb_arms,ucb_arms,lcb_group,ucb_group;\n",
    "\n",
    "\n",
    "while np.sum(active_groups)>1 and t<=500000 :\n",
    "    for i in range(len(active_groups)):\n",
    "        if active_groups[i]==1:\n",
    "            t=t+1;\n",
    "            index=np.random.choice(range(len(reward_distribution[i])));\n",
    "            pulls[i][index]+=1;\n",
    "            actual_reward_received[i][index]+=bernoulli.rvs(p=reward_distribution[i][index]);\n",
    "\n",
    "    \n",
    "    lcb_arms,ucb_arms,lcb_group,ucb_group=calculate_bounds(lcb_group,ucb_group,lcb_arms,ucb_arms);\n",
    "    active_groups=eliminate_arms(active_groups,lcb_group,ucb_group);\n",
    "    #print(lcb_group,ucb_group,\"\\n\",pulls)\n",
    "\n",
    "print(\"Stopping Time :\",t)\n",
    "print(\"Active arm :\",active_groups)\n"
   ]
  }
 ],
 "metadata": {
  "kernelspec": {
   "display_name": "Python 3",
   "language": "python",
   "name": "python3"
  },
  "language_info": {
   "codemirror_mode": {
    "name": "ipython",
    "version": 3
   },
   "file_extension": ".py",
   "mimetype": "text/x-python",
   "name": "python",
   "nbconvert_exporter": "python",
   "pygments_lexer": "ipython3",
   "version": "3.8.8"
  }
 },
 "nbformat": 4,
 "nbformat_minor": 5
}
